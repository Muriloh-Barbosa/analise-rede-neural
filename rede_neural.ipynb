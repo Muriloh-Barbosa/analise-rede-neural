{
  "nbformat": 4,
  "nbformat_minor": 0,
  "metadata": {
    "colab": {
      "provenance": [],
      "authorship_tag": "ABX9TyPrUCP1xKKsfg1TbXKLFy4G",
      "include_colab_link": true
    },
    "kernelspec": {
      "name": "python3",
      "display_name": "Python 3"
    },
    "language_info": {
      "name": "python"
    }
  },
  "cells": [
    {
      "cell_type": "markdown",
      "metadata": {
        "id": "view-in-github",
        "colab_type": "text"
      },
      "source": [
        "<a href=\"https://colab.research.google.com/github/Muriloh-Barbosa/analise-rede-neural/blob/main/rede_neural.ipynb\" target=\"_parent\"><img src=\"https://colab.research.google.com/assets/colab-badge.svg\" alt=\"Open In Colab\"/></a>"
      ]
    },
    {
      "cell_type": "code",
      "execution_count": null,
      "metadata": {
        "id": "W-uAM-MjRE7h"
      },
      "outputs": [],
      "source": [
        "import numpy as np\n",
        "import torch \n",
        "import torch.nn.functional as F\n",
        "import torchvision\n",
        "import matplotlib.pyplot as plt\n",
        "from time import time\n",
        "from torchvision import datasets, transforms   \n",
        "from torch import nn, optim"
      ]
    },
    {
      "cell_type": "code",
      "source": [
        "transform   = transforms.ToTensor() \n",
        "trainset    = datasets.MNIST(\"./MNIST_data/\", download=True, train=True, transform=transform)\n",
        "trainloader = torch.utils.data.DataLoader(trainset, batch_size=64, shuffle=True)\n",
        "\n",
        "valset = datasets.MNIST(\"./MNIST_data/\", download=True, train=False, transform=transform)\n",
        "valloader = torch.utils.data.DataLoader(valset, batch_size=64, shuffle=True)"
      ],
      "metadata": {
        "id": "JxXBfvErTnrH"
      },
      "execution_count": null,
      "outputs": []
    },
    {
      "cell_type": "code",
      "source": [
        "dataiter = iter(trainloader)\n",
        "imagens, etiquetas = dataiter.next()\n",
        "plt.imshow(imagens[0].numpy().squeeze(), cmap=\"gray_r\");"
      ],
      "metadata": {
        "id": "YzIzQ7h3Udm-"
      },
      "execution_count": null,
      "outputs": []
    },
    {
      "cell_type": "code",
      "source": [
        "print(imagens[0].shape)#para verificar as dimensões do tensor de cada imagem\n",
        "print(etiquetas[0].shape)#para verificar as dimensões do tensor de cada etiqueta"
      ],
      "metadata": {
        "id": "zuQ0FlX8VD7W"
      },
      "execution_count": null,
      "outputs": []
    },
    {
      "cell_type": "code",
      "source": [
        "class Modelo(nn.Module):\n",
        "  def __init__ (self):\n",
        "    super(Modelo, self).__init__()\n",
        "    self.linear1 = nn.Linear(28*28, 128)\n",
        "    self.linear2 = nn.Linear(128,64)\n",
        "    self.linear3 = nn.Linear(64,10)\n",
        "\n",
        "  def forward(self,x):\n",
        "    X = F.relu(self.linear1(X))\n",
        "    X = F.relu(self.linear2(X))\n",
        "    X = self.linear3(X)\n",
        "    return F.log_softmax(X, dim=1)"
      ],
      "metadata": {
        "id": "ILBzjlq_WE8A"
      },
      "execution_count": null,
      "outputs": []
    },
    {
      "cell_type": "code",
      "source": [
        "def treino(modelo, treinloader, device):\n",
        "  otimizador = optim.SGD(modelo.parameters(), lr=0.01, momentum=0.5)\n",
        "  inicio = time()\n",
        "\n",
        "  criterio = nn.NLLLoss()\n",
        "  EPOCHS = 10\n",
        "  modelo.train()\n",
        "\n",
        "  for epoch in range (EPOCHS):\n",
        "    perda_acumudala = 0 \n",
        "\n",
        "    for imagens, etiquetas in trainloader:\n",
        "\n",
        "      imagens= imagens.view(imagens.shpae[0], -1)\n",
        "      otimizador.zero_grad()\n",
        "\n",
        "      output = modelo(imagens.to(device))\n",
        "      perda_instantanea = criterio(output, etiquetas.to(device))\n",
        "\n",
        "      perda_instantanea.backward()\n",
        "\n",
        "      otimizador.step()\n",
        "\n",
        "      perda_acumulada += perda_instantanea.item()\n",
        "\n",
        "    else:\n",
        "        print(\"Epoch {} - Perda resultante: {}\".format(epoch+1, perda_acumulada/len(trainloader)))\n",
        "  print(\"\\nTempo de treino (em minutos) = \",(time()-inicio)/60)\n"
      ],
      "metadata": {
        "id": "hNMqq_tsdrjp"
      },
      "execution_count": null,
      "outputs": []
    },
    {
      "cell_type": "code",
      "source": [
        "def validacao(modelo, valloader, device): \n",
        "  contas_corretas, conta_todas = 0,0\n",
        "  for imagens, etiquetas in valloader:\n",
        "    for i in range (len(etiquetas)):\n",
        "      img = imagens[i].view(1, 784)\n",
        "\n",
        "      with torch.no_grad():\n",
        "        logps = modelo(img.to(device))\n",
        "\n",
        "      ps = torch.exp(logps)\n",
        "      probab = list (ps.cpu().numpy()[0])\n",
        "      etiqueta_pred = probab.index(max(probab))\n",
        "      etiqueta_certa = etiquetas.numpy()[i]\n",
        "      if(etiqueta_certa == etiqueta_pred):\n",
        "        contas_corretas += 1\n",
        "      conta_todas += 1\n",
        "\n",
        "    print (\"total de imagens testadas =\", conta_todas)\n",
        "    print(\"\\nPrecisão do modelo = {}%\".format(contas_corretas*100/conta_todas))"
      ],
      "metadata": {
        "id": "aLQEumHXhhkR"
      },
      "execution_count": null,
      "outputs": []
    },
    {
      "cell_type": "code",
      "source": [
        "modelo = Modelo()\n",
        "device = torch.device (\"Cuda\" if torch.cuda.is_available()else \"cpu\")\n",
        "modelo.to(device)"
      ],
      "metadata": {
        "id": "V2Hcig2Gmc9z"
      },
      "execution_count": null,
      "outputs": []
    }
  ]
}